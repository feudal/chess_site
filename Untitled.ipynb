{
 "cells": [
  {
   "cell_type": "code",
   "execution_count": 11,
   "id": "equal-conjunction",
   "metadata": {},
   "outputs": [],
   "source": [
    "import requests\n",
    "import pandas as pd\n",
    "import shutil\n",
    "from bs4 import BeautifulSoup\n",
    "\n",
    "page = 'https://www.gutenberg.org/files/5614/5614-h/5614-h.htm#game27'\n",
    "result = requests.get(page)\n",
    "soup = BeautifulSoup(result.content, 'html.parser')\n"
   ]
  },
  {
   "cell_type": "code",
   "execution_count": 40,
   "id": "activated-classroom",
   "metadata": {},
   "outputs": [
    {
     "name": "stdout",
     "output_type": "stream",
     "text": [
      "https://www.gutenberg.org/files/5614/5614-h/images/diag01.jpg\n",
      "succes\n",
      "https://www.gutenberg.org/files/5614/5614-h/images/diag02.jpg\n",
      "succes\n",
      "https://www.gutenberg.org/files/5614/5614-h/images/diag03.jpg\n",
      "succes\n",
      "https://www.gutenberg.org/files/5614/5614-h/images/diag04.jpg\n",
      "succes\n",
      "https://www.gutenberg.org/files/5614/5614-h/images/diag05.jpg\n",
      "succes\n",
      "https://www.gutenberg.org/files/5614/5614-h/images/diag06.jpg\n",
      "succes\n",
      "https://www.gutenberg.org/files/5614/5614-h/images/diag07.jpg\n",
      "succes\n",
      "https://www.gutenberg.org/files/5614/5614-h/images/diag08.jpg\n",
      "succes\n",
      "https://www.gutenberg.org/files/5614/5614-h/images/diag09.jpg\n",
      "succes\n"
     ]
    }
   ],
   "source": [
    "# 168\n",
    "for i in range(1, 10):\n",
    "    image_url = f'https://www.gutenberg.org/files/5614/5614-h/images/diag0{i}.jpg'\n",
    "    print(image_url)\n",
    "\n",
    "    filename = f'diag0{i}.jpg'\n",
    "\n",
    "    r = requests.get(image_url, stream=True)\n",
    "\n",
    "    if r.status_code == 200:\n",
    "        r.raw.decode_content = True\n",
    "        base_path = r'C:\\Users\\37378\\Desktop\\sites\\chess\\diag0' + str(i) + '.jpg'\n",
    "        dest_path = r'C:\\Users\\37378\\Desktop\\sites\\chess\\images\\diag0' + str(i) + '.jpg'\n",
    "\n",
    "        with open(filename,'wb') as f:\n",
    "            shutil.copyfileobj(r.raw, f)\n",
    "\n",
    "        shutil.move(base_path, dest_path)\n",
    "\n",
    "        print('succes')\n",
    "    else:\n",
    "        print('error')"
   ]
  },
  {
   "cell_type": "code",
   "execution_count": 25,
   "id": "convertible-relative",
   "metadata": {},
   "outputs": [],
   "source": []
  },
  {
   "cell_type": "code",
   "execution_count": null,
   "id": "ranging-reservation",
   "metadata": {},
   "outputs": [],
   "source": []
  }
 ],
 "metadata": {
  "kernelspec": {
   "display_name": "Python 3",
   "language": "python",
   "name": "python3"
  },
  "language_info": {
   "codemirror_mode": {
    "name": "ipython",
    "version": 3
   },
   "file_extension": ".py",
   "mimetype": "text/x-python",
   "name": "python",
   "nbconvert_exporter": "python",
   "pygments_lexer": "ipython3",
   "version": "3.9.3"
  }
 },
 "nbformat": 4,
 "nbformat_minor": 5
}
